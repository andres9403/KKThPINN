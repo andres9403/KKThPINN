{
 "cells": [
  {
   "cell_type": "code",
   "execution_count": 122,
   "metadata": {},
   "outputs": [],
   "source": [
    "from main import main,add_arguments\n",
    "from utils import LoadData, LoadModel, load_data\n",
    "from train import run_training\n",
    "import argparse\n",
    "import numpy as np\n",
    "import time\n",
    "import copy\n",
    "import os\n",
    "import tempfile\n",
    "\n",
    "import numpy as np\n",
    "# pyomo for optimization\n",
    "import pyomo.environ as pyo\n",
    "\n",
    "# pytorch for training neural network\n",
    "import torch.onnx\n",
    "from torch import nn, optim\n",
    "from torch.optim.lr_scheduler import StepLR\n",
    "from torchvision import datasets, transforms\n",
    "\n",
    "# omlt for interfacing our neural network with pyomo\n",
    "import onnx\n",
    "from omlt import OffsetScaling, OmltBlock\n",
    "from omlt.io.onnx import (\n",
    "    load_onnx_neural_network_with_bounds,\n",
    "    write_onnx_model_with_bounds,\n",
    "    load_onnx_neural_network,\n",
    ")\n",
    "from omlt.neuralnet import FullSpaceNNFormulation"
   ]
  },
  {
   "cell_type": "code",
   "execution_count": 128,
   "metadata": {},
   "outputs": [
    {
     "ename": "TypeError",
     "evalue": "add_arguments() takes 0 positional arguments but 6 were given",
     "output_type": "error",
     "traceback": [
      "\u001b[0;31m---------------------------------------------------------------------------\u001b[0m",
      "\u001b[0;31mTypeError\u001b[0m                                 Traceback (most recent call last)",
      "Cell \u001b[0;32mIn[128], line 1\u001b[0m\n\u001b[0;32m----> 1\u001b[0m args \u001b[38;5;241m=\u001b[39m \u001b[43madd_arguments\u001b[49m\u001b[43m(\u001b[49m\u001b[38;5;124;43m'\u001b[39;49m\u001b[38;5;124;43mKKThPINN\u001b[39;49m\u001b[38;5;124;43m'\u001b[39;49m\u001b[43m,\u001b[49m\u001b[43m \u001b[49m\u001b[38;5;241;43m7\u001b[39;49m\u001b[43m,\u001b[49m\u001b[43m \u001b[49m\u001b[38;5;241;43m32\u001b[39;49m\u001b[43m,\u001b[49m\u001b[43m \u001b[49m\u001b[38;5;241;43m2\u001b[39;49m\u001b[43m,\u001b[49m\u001b[43m \u001b[49m\u001b[38;5;241;43m8\u001b[39;49m\u001b[43m,\u001b[49m\u001b[43m \u001b[49m\u001b[38;5;124;43m'\u001b[39;49m\u001b[38;5;124;43mexperiment\u001b[39;49m\u001b[38;5;124;43m'\u001b[39;49m\u001b[43m)\u001b[49m\n",
      "\u001b[0;31mTypeError\u001b[0m: add_arguments() takes 0 positional arguments but 6 were given"
     ]
    }
   ],
   "source": [
    "args = add_arguments('KKThPINN', 7, 32, 2, 8, 'experiment')"
   ]
  },
  {
   "cell_type": "code",
   "execution_count": 44,
   "metadata": {},
   "outputs": [],
   "source": [
    "# def add_arguments(model,model_id,system):    \n",
    "#     if system == 'membrane':\n",
    "#         args = argparse.Namespace(\n",
    "#             input_dim=7,\n",
    "#             hidden_dim=32,\n",
    "#             hidden_num=2,\n",
    "#             z0_dim=8,\n",
    "#             optimizer='adam',\n",
    "#             epochs=1000,\n",
    "#             batch_size=16,\n",
    "#             lr=1e-4,\n",
    "#             mu=1,\n",
    "#             max_subiter=500,\n",
    "#             eta=0.8,\n",
    "#             sigma=2,\n",
    "#             mu_safe=1e+9,\n",
    "#             dtype=32,\n",
    "#             dataset_path='/home/andresfel9403/KKThNN/KKThPINN/benchmark_membrane.csv',\n",
    "#             val_ratio=0.2,\n",
    "#             job='prediction',\n",
    "#             runs=10)\n",
    "#     else:\n",
    "#         pass\n",
    "\n",
    "#     args.model = model\n",
    "#     args.model_id = model_id\n",
    "#     args.dataset_type = system\n",
    "        \n",
    "    \n",
    "#     if args.model == 'NN':\n",
    "#         args.loss_type = 'MSE'\n",
    "#     elif args.model == 'PINN':\n",
    "#         args.loss_type = 'PINN'\n",
    "#     elif args.model == 'KKThPINN':\n",
    "#         args.loss_type = 'MSE'\n",
    "#     elif args.model == 'AugLagNN':\n",
    "#         args.loss_type = 'MSE'\n",
    "#     elif args.model == 'ECNN':\n",
    "#         args.loss_type = 'MSE'\n",
    "#     return args"
   ]
  },
  {
   "cell_type": "markdown",
   "metadata": {},
   "source": [
    "After defining the arguments depending on the number of inputs, hidden and output layers, we can train the model selecting the Neural Network model (NN or KKThPINN)"
   ]
  },
  {
   "cell_type": "code",
   "execution_count": 82,
   "metadata": {},
   "outputs": [
    {
     "name": "stdout",
     "output_type": "stream",
     "text": [
      "type of A: torch.float32, type of B: torch.float32, type of b: torch.float32\n",
      "train set size: 614, val set size: 204, test set size: 204\n"
     ]
    },
    {
     "name": "stderr",
     "output_type": "stream",
     "text": [
      "/tmp/ipykernel_270476/3524242555.py:9: FutureWarning: You are using `torch.load` with `weights_only=False` (the current default value), which uses the default pickle module implicitly. It is possible to construct malicious pickle data which will execute arbitrary code during unpickling (See https://github.com/pytorch/pytorch/blob/main/SECURITY.md#untrusted-models for more details). In a future release, the default value for `weights_only` will be flipped to `True`. This limits the functions that could be executed during unpickling. Arbitrary objects will no longer be allowed to be loaded via this mode unless they are explicitly allowlisted by the user via `torch.serialization.add_safe_globals`. We recommend you start setting `weights_only=True` for any use case where you don't have full control of the loaded file. Please open an issue on GitHub for any issues related to this experimental feature.\n",
      "  checkpoint = torch.load(PATH)\n"
     ]
    },
    {
     "data": {
      "text/plain": [
       "NNOPT(\n",
       "  (layers): ModuleList(\n",
       "    (0): Linear(in_features=7, out_features=32, bias=True)\n",
       "    (1): Linear(in_features=32, out_features=32, bias=True)\n",
       "    (2): Linear(in_features=32, out_features=8, bias=True)\n",
       "  )\n",
       "  (fc_fixed1): Linear(in_features=8, out_features=8, bias=False)\n",
       "  (fc_fixed2): Linear(in_features=7, out_features=8, bias=True)\n",
       ")"
      ]
     },
     "execution_count": 82,
     "metadata": {},
     "output_type": "execute_result"
    }
   ],
   "source": [
    "args = add_arguments('KKThPINN','jum','membrane')\n",
    "dataset, scaling = load_data(args.dataset_path)\n",
    "inputs = dataset[:,:7]\n",
    "outputs = dataset[:,7:]\n",
    "\n",
    "data = LoadData(args)\n",
    "model = LoadModel(args, data)\n",
    "PATH = '/home/andresfel9403/KKThNN/models/membrane/KKThPINN/0.2/None_0.2_9.pth'\n",
    "checkpoint = torch.load(PATH)\n",
    "model.load_state_dict(checkpoint['state_dict'])\n",
    "model.eval()\n",
    "\n"
   ]
  },
  {
   "cell_type": "code",
   "execution_count": 46,
   "metadata": {},
   "outputs": [
    {
     "name": "stdout",
     "output_type": "stream",
     "text": [
      "[1.46831994e+01 1.04111445e+01 1.42231966e+01 9.99584502e+01\n",
      " 7.26638589e+02 2.69926289e+06 1.76773269e+02]\n"
     ]
    }
   ],
   "source": [
    "x_factor = scaling.scale_[:7]\n",
    "y_factor = scaling.scale_[7:]\n",
    "\n",
    "print(x_factor)"
   ]
  },
  {
   "cell_type": "code",
   "execution_count": 47,
   "metadata": {},
   "outputs": [],
   "source": [
    "scaler = scaler = OffsetScaling(\n",
    "    offset_inputs={i: 0 for i in range(len(x_factor))},\n",
    "    factor_inputs={i: x_factor[i] for i in range(len(x_factor))},\n",
    "    offset_outputs={i: 0 for i in range(len(y_factor))},\n",
    "    factor_outputs={i: y_factor[i] for i in range(len(y_factor))},\n",
    ")"
   ]
  },
  {
   "cell_type": "code",
   "execution_count": 48,
   "metadata": {},
   "outputs": [
    {
     "name": "stdout",
     "output_type": "stream",
     "text": [
      "14.68319944\n"
     ]
    }
   ],
   "source": [
    "print(1*x_factor[0])"
   ]
  },
  {
   "cell_type": "code",
   "execution_count": 49,
   "metadata": {},
   "outputs": [
    {
     "name": "stdout",
     "output_type": "stream",
     "text": [
      "{0: (np.float64(0.002303625455624813), np.float64(1.0)), 1: (np.float64(0.00045880834803283796), np.float64(1.0)), 2: (np.float64(0.0022512226291679363), np.float64(1.0)), 3: (np.float64(0.10018982303101381), np.float64(1.0)), 4: (np.float64(0.25788606628182886), np.float64(1.0)), 5: (np.float64(0.4816711270961038), np.float64(1.0)), 6: (np.float64(0.056910004685567034), np.float64(1.0))}\n"
     ]
    }
   ],
   "source": [
    "x_dummy = torch.from_numpy(inputs[0]).float()\n",
    "ub = np.max(inputs, 0)\n",
    "lb = np.min(inputs, 0)\n",
    "\n",
    "scaled_input_bounds = {i: (lb[i], ub[i]) for i in range(len(inputs[0]))}\n",
    "print(scaled_input_bounds)"
   ]
  },
  {
   "cell_type": "code",
   "execution_count": 50,
   "metadata": {},
   "outputs": [
    {
     "name": "stdout",
     "output_type": "stream",
     "text": [
      "train_loader <torch.utils.data.dataloader.DataLoader object at 0x7fcb855c3f20>\n",
      "val_loader <torch.utils.data.dataloader.DataLoader object at 0x7fcb855c3ec0>\n",
      "test_loader <torch.utils.data.dataloader.DataLoader object at 0x7fcb85628f50>\n",
      "dataset <utils.Data_membrane object at 0x7fcb856d7500>\n",
      "A tensor([[14.6832, 10.4111, 14.2232, 99.9585,  0.0000,  0.0000,  0.0000]])\n",
      "B tensor([[ -3.3498, -11.7057,  -5.5663, -14.7299, -99.9585,   0.0000,   0.0000,\n",
      "           0.0000]])\n",
      "b tensor([[0.]])\n",
      "constrained_indexes [0, 1, 2, 3, 4]\n",
      "unconstrained_indexes [5, 6, 7]\n",
      "B_dep tensor([[-3.3498]])\n",
      "B_indep tensor([[-11.7057,  -5.5663, -14.7299, -99.9585,   0.0000,   0.0000,   0.0000]])\n"
     ]
    }
   ],
   "source": [
    "for key, value in data.items() :\n",
    "            print (key, value)"
   ]
  },
  {
   "cell_type": "code",
   "execution_count": 51,
   "metadata": {},
   "outputs": [
    {
     "name": "stdout",
     "output_type": "stream",
     "text": [
      "NN(\n",
      "  (layers): ModuleList(\n",
      "    (0): Linear(in_features=7, out_features=32, bias=True)\n",
      "    (1): Linear(in_features=32, out_features=32, bias=True)\n",
      "    (2): Linear(in_features=32, out_features=8, bias=True)\n",
      "  )\n",
      ")\n"
     ]
    }
   ],
   "source": [
    "print(model)"
   ]
  },
  {
   "cell_type": "code",
   "execution_count": 68,
   "metadata": {},
   "outputs": [],
   "source": [
    "with tempfile.NamedTemporaryFile(suffix=\".onnx\", delete=False) as f:\n",
    "    # export neural network to ONNX\n",
    "    torch.onnx.export(\n",
    "        model,\n",
    "        x_dummy,\n",
    "        f,\n",
    "        input_names=[\"input\"],\n",
    "        dynamo = False\n",
    "    )\n",
    "    # write ONNX model and its bounds using OMLT\n",
    "    write_onnx_model_with_bounds(f.name, None, scaled_input_bounds)\n",
    "    #onnx_model = onnx.load(f.name)\n",
    "    # load the network definition from the ONNX model\n",
    "    network_definition = load_onnx_neural_network_with_bounds(f.name)\n",
    "    #network_definition = load_onnx_neural_network(onnx = onnx_model) #scaling_object=scaler, input_bounds= scaled_input_bounds) "
   ]
  },
  {
   "cell_type": "code",
   "execution_count": 69,
   "metadata": {},
   "outputs": [
    {
     "name": "stdout",
     "output_type": "stream",
     "text": [
      "0\tInputLayer(input_size=[7], output_size=[7])\tlinear\n",
      "1\tDenseLayer(input_size=[7], output_size=[32])\trelu\n",
      "2\tDenseLayer(input_size=[32], output_size=[32])\trelu\n",
      "3\tDenseLayer(input_size=[32], output_size=[8])\tlinear\n"
     ]
    }
   ],
   "source": [
    "for layer_id, layer in enumerate(network_definition.layers):\n",
    "    print(f\"{layer_id}\\t{layer}\\t{layer.activation}\")"
   ]
  },
  {
   "cell_type": "code",
   "execution_count": 70,
   "metadata": {},
   "outputs": [],
   "source": [
    "formulation = FullSpaceNNFormulation(network_definition)"
   ]
  },
  {
   "cell_type": "code",
   "execution_count": 71,
   "metadata": {},
   "outputs": [
    {
     "name": "stdout",
     "output_type": "stream",
     "text": [
      "WARNING (W1002): Setting Var 'membrane.scaled_inputs[0]' to a numeric value\n",
      "`0` outside the bounds (0.002303625455624813, 1.0).\n",
      "    See also https://pyomo.readthedocs.io/en/stable/errors.html#w1002\n",
      "WARNING (W1002): Setting Var 'membrane.scaled_inputs[0]' to a numeric value\n",
      "`0` outside the bounds (0.002303625455624813, 1.0).\n",
      "    See also https://pyomo.readthedocs.io/en/stable/errors.html#w1002\n",
      "WARNING (W1002): Setting Var 'membrane.scaled_inputs[1]' to a numeric value\n",
      "`0` outside the bounds (0.00045880834803283796, 1.0).\n",
      "    See also https://pyomo.readthedocs.io/en/stable/errors.html#w1002\n",
      "WARNING (W1002): Setting Var 'membrane.scaled_inputs[2]' to a numeric value\n",
      "`0` outside the bounds (0.0022512226291679363, 1.0).\n",
      "    See also https://pyomo.readthedocs.io/en/stable/errors.html#w1002\n",
      "WARNING (W1002): Setting Var 'membrane.scaled_inputs[3]' to a numeric value\n",
      "`0` outside the bounds (0.10018982303101381, 1.0).\n",
      "    See also https://pyomo.readthedocs.io/en/stable/errors.html#w1002\n",
      "WARNING (W1002): Setting Var 'membrane.scaled_inputs[4]' to a numeric value\n",
      "`0` outside the bounds (0.25788606628182886, 1.0).\n",
      "    See also https://pyomo.readthedocs.io/en/stable/errors.html#w1002\n",
      "WARNING (W1002): Setting Var 'membrane.scaled_inputs[5]' to a numeric value\n",
      "`0` outside the bounds (0.4816711270961038, 1.0).\n",
      "    See also https://pyomo.readthedocs.io/en/stable/errors.html#w1002\n",
      "WARNING (W1002): Setting Var 'membrane.scaled_inputs[6]' to a numeric value\n",
      "`0` outside the bounds (0.056910004685567034, 1.0).\n",
      "    See also https://pyomo.readthedocs.io/en/stable/errors.html#w1002\n"
     ]
    }
   ],
   "source": [
    "m = pyo.ConcreteModel()\n",
    "\n",
    "# create an OMLT block for the neural network and build its formulation\n",
    "m.membrane = OmltBlock()\n",
    "m.membrane.build_formulation(formulation)\n",
    "\n"
   ]
  },
  {
   "cell_type": "code",
   "execution_count": 72,
   "metadata": {},
   "outputs": [],
   "source": [
    "m.obj = pyo.Objective(expr=m.membrane.outputs[1], sense=pyo.maximize)"
   ]
  },
  {
   "cell_type": "code",
   "execution_count": 73,
   "metadata": {},
   "outputs": [
    {
     "name": "stdout",
     "output_type": "stream",
     "text": [
      "Welcome to the CBC MILP Solver \n",
      "Version: 2.10.7 \n",
      "Build Date: Feb 14 2022 \n",
      "\n",
      "command line - /usr/bin/cbc -printingOptions all -import /tmp/tmpal2j_1gh.pyomo.lp -stat=1 -solve -solu /tmp/tmpal2j_1gh.pyomo.soln (default strategy 1)\n",
      "Option for printingOptions changed from normal to all\n",
      " CoinLpIO::readLp(): Maximization problem reformulated as minimization\n",
      "Coin0009I Switching back to maximization to get correct duals etc\n",
      "Presolve 250 (-116) rows, 188 (-57) columns and 1880 (-284) elements\n",
      "Statistics for presolved model\n",
      "Original problem has 64 integers (64 of which binary)\n",
      "Presolved problem has 56 integers (56 of which binary)\n",
      "==== 187 zero objective 2 different\n",
      "187 variables have objective of -0\n",
      "1 variables have objective of 1\n",
      "==== absolute objective values 2 different\n",
      "187 variables have objective of 0\n",
      "1 variables have objective of 1\n",
      "==== for integers 56 zero objective 1 different\n",
      "56 variables have objective of -0\n",
      "==== for integers absolute objective values 1 different\n",
      "56 variables have objective of 0\n",
      "===== end objective counts\n",
      "\n",
      "\n",
      "Problem has 250 rows, 188 columns (1 with objective) and 1880 elements\n",
      "There are 1 singletons with objective \n",
      "Column breakdown:\n",
      "0 of type 0.0->inf, 56 of type 0.0->up, 0 of type lo->inf, \n",
      "76 of type lo->up, 0 of type free, 0 of type fixed, \n",
      "0 of type -inf->0.0, 0 of type -inf->up, 56 of type 0.0->1.0 \n",
      "Row breakdown:\n",
      "0 of type E 0.0, 0 of type E 1.0, 0 of type E -1.0, \n",
      "63 of type E other, 0 of type G 0.0, 0 of type G 1.0, \n",
      "0 of type G other, 124 of type L 0.0, 0 of type L 1.0, \n",
      "56 of type L other, 0 of type Range 0.0->1.0, 7 of type Range other, \n",
      "0 of type Free \n",
      "Continuous objective value is 1.82649 - 0.02 seconds\n",
      "Cgl0003I 0 fixed, 0 tightened bounds, 13 strengthened rows, 0 substitutions\n",
      "Cgl0003I 0 fixed, 0 tightened bounds, 7 strengthened rows, 0 substitutions\n",
      "Cgl0003I 0 fixed, 0 tightened bounds, 5 strengthened rows, 0 substitutions\n",
      "Cgl0003I 0 fixed, 0 tightened bounds, 6 strengthened rows, 0 substitutions\n",
      "Cgl0004I processed model has 203 rows, 141 columns (56 integer (56 of which binary)) and 2647 elements\n",
      "Cbc0038I Initial state - 47 integers unsatisfied sum - 17.1911\n",
      "Cbc0038I Pass   1: suminf.    1.86752 (14) obj. -0.434281 iterations 57\n",
      "Cbc0038I Solution found of -0.434281\n",
      "Cbc0038I Relaxing continuous gives -0.78959\n",
      "Cbc0038I Before mini branch and bound, 8 integers at bound fixed and 10 continuous\n",
      "Cbc0038I Full problem 203 rows 141 columns, reduced to 172 rows 111 columns - 10 fixed gives 157, 99 - still too large\n",
      "Cbc0038I Mini branch and bound did not improve solution (0.08 seconds)\n",
      "Cbc0038I Round again with cutoff of -0.893264\n",
      "Cbc0038I Pass   2: suminf.    2.70000 (14) obj. -0.893264 iterations 13\n",
      "Cbc0038I Pass   3: suminf.    2.70000 (14) obj. -0.893264 iterations 0\n",
      "Cbc0038I Pass   4: suminf.    0.15350 (2) obj. -0.893264 iterations 41\n",
      "Cbc0038I Pass   5: suminf.    0.42794 (1) obj. -0.893264 iterations 19\n",
      "Cbc0038I Pass   6: suminf.    0.08321 (1) obj. -0.893264 iterations 5\n",
      "Cbc0038I Pass   7: suminf.    3.24736 (11) obj. -0.893264 iterations 26\n",
      "Cbc0038I Pass   8: suminf.    3.20425 (11) obj. -0.893264 iterations 1\n",
      "Cbc0038I Pass   9: suminf.    0.17948 (1) obj. -0.893264 iterations 24\n",
      "Cbc0038I Pass  10: suminf.    0.41323 (1) obj. -0.893264 iterations 13\n",
      "Cbc0038I Pass  11: suminf.    3.97946 (15) obj. -0.893264 iterations 40\n",
      "Cbc0038I Pass  12: suminf.    3.76168 (14) obj. -0.893264 iterations 8\n",
      "Cbc0038I Pass  13: suminf.    3.04123 (14) obj. -0.893264 iterations 12\n",
      "Cbc0038I Pass  14: suminf.    1.07357 (4) obj. -0.893264 iterations 22\n",
      "Cbc0038I Pass  15: suminf.    0.75340 (3) obj. -0.893264 iterations 4\n",
      "Cbc0038I Pass  16: suminf.    0.43831 (1) obj. -0.893264 iterations 11\n",
      "Cbc0038I Pass  17: suminf.    0.14205 (1) obj. -0.893264 iterations 6\n",
      "Cbc0038I Pass  18: suminf.    4.24235 (14) obj. -0.893264 iterations 29\n",
      "Cbc0038I Pass  19: suminf.    3.85778 (14) obj. -0.893264 iterations 8\n",
      "Cbc0038I Pass  20: suminf.    3.62291 (15) obj. -0.893264 iterations 5\n",
      "Cbc0038I Pass  21: suminf.    0.62008 (2) obj. -0.893264 iterations 29\n",
      "Cbc0038I Pass  22: suminf.    2.59884 (8) obj. -0.893264 iterations 18\n",
      "Cbc0038I Pass  23: suminf.    2.18788 (7) obj. -0.893264 iterations 4\n",
      "Cbc0038I Pass  24: suminf.    4.16798 (17) obj. -0.893264 iterations 33\n",
      "Cbc0038I Pass  25: suminf.    3.39723 (16) obj. -0.893264 iterations 8\n",
      "Cbc0038I Pass  26: suminf.    1.18687 (4) obj. -0.893264 iterations 21\n",
      "Cbc0038I Pass  27: suminf.    0.92043 (3) obj. -0.893264 iterations 3\n",
      "Cbc0038I Pass  28: suminf.    0.78887 (3) obj. -0.893264 iterations 2\n",
      "Cbc0038I Pass  29: suminf.    0.49309 (2) obj. -0.893264 iterations 7\n",
      "Cbc0038I Pass  30: suminf.    0.47664 (2) obj. -0.893264 iterations 1\n",
      "Cbc0038I Pass  31: suminf.    0.36748 (2) obj. -0.893264 iterations 3\n",
      "Cbc0038I No solution found this major pass\n",
      "Cbc0038I Before mini branch and bound, 2 integers at bound fixed and 7 continuous\n",
      "Cbc0038I Full problem 203 rows 141 columns, reduced to 180 rows 119 columns - 10 fixed gives 169, 108 - still too large\n",
      "Cbc0038I Mini branch and bound did not improve solution (0.16 seconds)\n",
      "Cbc0038I After 0.16 seconds - Feasibility pump exiting with objective of -0.78959 - took 0.10 seconds\n",
      "Cbc0012I Integer solution of -0.78958957 found by feasibility pump after 0 iterations and 0 nodes (0.17 seconds)\n",
      "Cbc0031I 46 added rows had average density of 41.891304\n",
      "Cbc0013I At root node, 46 cuts changed objective from -1.8262408 to -0.99301574 in 100 passes\n",
      "Cbc0014I Cut generator 0 (Probing) - 557 row cuts average 2.5 elements, 0 column cuts (20 active)  in 0.042 seconds - new frequency is 1\n",
      "Cbc0014I Cut generator 1 (Gomory) - 2892 row cuts average 109.9 elements, 0 column cuts (0 active)  in 0.100 seconds - new frequency is 1\n",
      "Cbc0014I Cut generator 2 (Knapsack) - 0 row cuts average 0.0 elements, 0 column cuts (0 active)  in 0.034 seconds - new frequency is -100\n",
      "Cbc0014I Cut generator 3 (Clique) - 0 row cuts average 0.0 elements, 0 column cuts (0 active)  in 0.002 seconds - new frequency is -100\n",
      "Cbc0014I Cut generator 4 (MixedIntegerRounding2) - 1255 row cuts average 7.7 elements, 0 column cuts (0 active)  in 0.087 seconds - new frequency is 1\n",
      "Cbc0014I Cut generator 5 (FlowCover) - 20 row cuts average 2.6 elements, 0 column cuts (0 active)  in 0.035 seconds - new frequency is -100\n",
      "Cbc0014I Cut generator 6 (TwoMirCuts) - 463 row cuts average 32.9 elements, 0 column cuts (0 active)  in 0.026 seconds - new frequency is 1\n",
      "Cbc0010I After 0 nodes, 1 on tree, -0.78958957 best solution, best possible -0.99301574 (1.09 seconds)\n",
      "Cbc0012I Integer solution of -0.86795994 found by DiveCoefficient after 6681 iterations and 10 nodes (1.49 seconds)\n",
      "Cbc0001I Search completed - best objective -0.8679599417320357, took 7940 iterations and 30 nodes (1.57 seconds)\n",
      "Cbc0032I Strong branching done 410 times (11759 iterations), fathomed 1 nodes and fixed 11 variables\n",
      "Cbc0035I Maximum depth 14, 0 variables fixed on reduced cost\n",
      "Cuts at root node changed objective from -1.82624 to -0.993016\n",
      "Probing was tried 150 times and created 702 cuts of which 20 were active after adding rounds of cuts (0.051 seconds)\n",
      "Gomory was tried 150 times and created 2925 cuts of which 0 were active after adding rounds of cuts (0.124 seconds)\n",
      "Knapsack was tried 100 times and created 0 cuts of which 0 were active after adding rounds of cuts (0.034 seconds)\n",
      "Clique was tried 100 times and created 0 cuts of which 0 were active after adding rounds of cuts (0.002 seconds)\n",
      "MixedIntegerRounding2 was tried 150 times and created 1443 cuts of which 0 were active after adding rounds of cuts (0.113 seconds)\n",
      "FlowCover was tried 100 times and created 20 cuts of which 0 were active after adding rounds of cuts (0.035 seconds)\n",
      "TwoMirCuts was tried 150 times and created 738 cuts of which 0 were active after adding rounds of cuts (0.039 seconds)\n",
      "ZeroHalf was tried 1 times and created 0 cuts of which 0 were active after adding rounds of cuts (0.000 seconds)\n",
      "ImplicationCuts was tried 35 times and created 3 cuts of which 0 were active after adding rounds of cuts (0.000 seconds)\n",
      "\n",
      "Result - Optimal solution found\n",
      "\n",
      "Objective value:                0.86795994\n",
      "Enumerated nodes:               30\n",
      "Total iterations:               7940\n",
      "Time (CPU seconds):             1.59\n",
      "Time (Wallclock seconds):       1.38\n",
      "\n",
      "Total time (CPU seconds):       1.60   (Wallclock seconds):       1.38\n",
      "\n"
     ]
    }
   ],
   "source": [
    "solver = pyo.SolverFactory(\"cbc\")\n",
    "status = solver.solve(m, tee=True)"
   ]
  },
  {
   "cell_type": "code",
   "execution_count": 80,
   "metadata": {},
   "outputs": [
    {
     "name": "stdout",
     "output_type": "stream",
     "text": [
      "FA: 1.0\n"
     ]
    }
   ],
   "source": [
    "print(\"FA:\", pyo.value(m.membrane.inputs[6]))"
   ]
  },
  {
   "cell_type": "code",
   "execution_count": null,
   "metadata": {},
   "outputs": [],
   "source": []
  }
 ],
 "metadata": {
  "kernelspec": {
   "display_name": "chemfigmkr",
   "language": "python",
   "name": "python3"
  },
  "language_info": {
   "codemirror_mode": {
    "name": "ipython",
    "version": 3
   },
   "file_extension": ".py",
   "mimetype": "text/x-python",
   "name": "python",
   "nbconvert_exporter": "python",
   "pygments_lexer": "ipython3",
   "version": "3.12.3"
  }
 },
 "nbformat": 4,
 "nbformat_minor": 2
}
